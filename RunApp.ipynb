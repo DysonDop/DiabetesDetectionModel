{
 "cells": [
  {
   "cell_type": "code",
   "execution_count": null,
   "id": "bebadf5f-4f92-480e-847d-9de4bfe6fc6d",
   "metadata": {},
   "outputs": [],
   "source": [
    "! streamlit run diabetes_app.py\n"
   ]
  },
  {
   "cell_type": "code",
   "execution_count": null,
   "id": "76218b68-b31f-4677-96b3-7b3875c41303",
   "metadata": {},
   "outputs": [],
   "source": []
  }
 ],
 "metadata": {
  "kernelspec": {
   "display_name": "Python 3 (ipykernel)",
   "language": "python",
   "name": "python3"
  },
  "language_info": {
   "codemirror_mode": {
    "name": "ipython",
    "version": 3
   },
   "file_extension": ".py",
   "mimetype": "text/x-python",
   "name": "python",
   "nbconvert_exporter": "python",
   "pygments_lexer": "ipython3",
   "version": "3.10.8"
  }
 },
 "nbformat": 4,
 "nbformat_minor": 5
}
